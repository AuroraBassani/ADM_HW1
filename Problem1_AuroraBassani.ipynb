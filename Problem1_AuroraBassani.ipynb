{
 "cells": [
  {
   "cell_type": "markdown",
   "id": "1ecc33dd",
   "metadata": {},
   "source": [
    "# Problem 1"
   ]
  },
  {
   "cell_type": "markdown",
   "id": "f6052653",
   "metadata": {},
   "source": [
    "### Introduction"
   ]
  },
  {
   "cell_type": "markdown",
   "id": "3740af8c",
   "metadata": {},
   "source": [
    "##### Say \"Hello, World!\" With Python "
   ]
  },
  {
   "cell_type": "code",
   "execution_count": null,
   "id": "97164901",
   "metadata": {},
   "outputs": [],
   "source": [
    "if __name__ == '__main__':\n",
    "    print(\"Hello, World!\")"
   ]
  },
  {
   "cell_type": "markdown",
   "id": "91f23d3e",
   "metadata": {},
   "source": [
    "##### Python If-Else"
   ]
  },
  {
   "cell_type": "code",
   "execution_count": null,
   "id": "1ff87b1e",
   "metadata": {},
   "outputs": [],
   "source": [
    "import math\n",
    "import os\n",
    "import random\n",
    "import re\n",
    "import sys\n",
    "\n",
    "\n",
    "\n",
    "if __name__ == '__main__':\n",
    "    n = int(input().strip())\n",
    "if n%2==1 :\n",
    "    print('Weird')\n",
    "else :\n",
    "    if n>=2 and n<=5:\n",
    "        print('Not Weird')\n",
    "    elif n>=6 and n<=20:\n",
    "        print('Weird')\n",
    "    elif n>=20:\n",
    "        print('Not Weird')"
   ]
  },
  {
   "cell_type": "markdown",
   "id": "e275935f",
   "metadata": {},
   "source": [
    "##### Arithmetic Operators"
   ]
  },
  {
   "cell_type": "code",
   "execution_count": null,
   "id": "d59014f3",
   "metadata": {},
   "outputs": [],
   "source": [
    "if __name__ == '__main__':\n",
    "    a = int(input())\n",
    "    b = int(input())\n",
    "print(a+b)\n",
    "print(a-b)\n",
    "print(a*b)"
   ]
  },
  {
   "cell_type": "markdown",
   "id": "d5045301",
   "metadata": {},
   "source": [
    "##### Python: Division"
   ]
  },
  {
   "cell_type": "code",
   "execution_count": null,
   "id": "4c6477af",
   "metadata": {},
   "outputs": [],
   "source": [
    "if __name__ == '__main__':\n",
    "    a = int(input())\n",
    "    b = int(input())\n",
    "print(a//b)\n",
    "print(a/b)"
   ]
  },
  {
   "cell_type": "markdown",
   "id": "d26e7a8b",
   "metadata": {},
   "source": [
    "##### Loops"
   ]
  },
  {
   "cell_type": "code",
   "execution_count": null,
   "id": "b455282d",
   "metadata": {},
   "outputs": [],
   "source": [
    "if __name__ == '__main__':\n",
    "    n = int(input())\n",
    "for i in range(n):\n",
    "    print(i**2)"
   ]
  },
  {
   "cell_type": "markdown",
   "id": "20a4bc8e",
   "metadata": {},
   "source": [
    "##### Write a function"
   ]
  },
  {
   "cell_type": "code",
   "execution_count": null,
   "id": "8143f37e",
   "metadata": {},
   "outputs": [],
   "source": [
    "def is_leap(year):\n",
    "    leap = False\n",
    "    \n",
    "    if year%4==0:\n",
    "        if year%100!=0:\n",
    "            leap = True\n",
    "        else:\n",
    "            if year%400==0:\n",
    "                leap = True\n",
    "    \n",
    "    return leap"
   ]
  },
  {
   "cell_type": "markdown",
   "id": "50537c72",
   "metadata": {},
   "source": [
    "##### Print Function"
   ]
  },
  {
   "cell_type": "code",
   "execution_count": null,
   "id": "a95c1842",
   "metadata": {},
   "outputs": [],
   "source": [
    "if __name__ == '__main__':\n",
    "    n = int(input())\n",
    "for i in range(1,n+1):\n",
    "    print(i, end='')"
   ]
  },
  {
   "cell_type": "markdown",
   "id": "1115b2d7",
   "metadata": {},
   "source": [
    "### Data types"
   ]
  },
  {
   "cell_type": "markdown",
   "id": "b24d7406",
   "metadata": {},
   "source": [
    "##### List Comprehensions"
   ]
  },
  {
   "cell_type": "code",
   "execution_count": null,
   "id": "4d372789",
   "metadata": {},
   "outputs": [],
   "source": [
    "if __name__ == '__main__':\n",
    "    x = int(input())\n",
    "    y = int(input())\n",
    "    z = int(input())\n",
    "    n = int(input())\n",
    "coordinates = [[i,j,k] for i in range(x+1) for j in range(y+1) for k in range(z+1) if i+j+k!=n]\n",
    "print(coordinates)"
   ]
  },
  {
   "cell_type": "markdown",
   "id": "1c41c1b0",
   "metadata": {},
   "source": [
    "##### Find the Runner-Up score!"
   ]
  },
  {
   "cell_type": "code",
   "execution_count": null,
   "id": "19af5c53",
   "metadata": {},
   "outputs": [],
   "source": [
    "if __name__ == '__main__':\n",
    "    n = int(input())\n",
    "    arr = map(int, input().split())\n",
    "\n",
    "scores = list(arr)\n",
    "scores.sort()\n",
    "scores = scores[::-1]\n",
    "for i in range(len(scores)):\n",
    "    if scores[i]!=scores[i+1]:\n",
    "        break\n",
    "print(scores[i+1])"
   ]
  },
  {
   "cell_type": "markdown",
   "id": "f5837aae",
   "metadata": {},
   "source": [
    "##### Nested Lists"
   ]
  },
  {
   "cell_type": "code",
   "execution_count": null,
   "id": "71374019",
   "metadata": {},
   "outputs": [],
   "source": [
    "if __name__ == '__main__':\n",
    "    names = []\n",
    "    scores = []\n",
    "    for _ in range(int(input())):\n",
    "        name = input()\n",
    "        score = float(input())\n",
    "        names.append(name)\n",
    "        scores.append(score)\n",
    "records = []\n",
    "for i in range(len(scores)):\n",
    "    records.append([names[i],scores[i]])\n",
    "scores.sort()\n",
    "for i in range(len(scores)):\n",
    "    if scores[i]!=scores[i+1]:\n",
    "        break\n",
    "value=scores[i+1]\n",
    "list_names=[]\n",
    "for i in records:\n",
    "    if i[1]==value:\n",
    "        list_names.append(i[0])\n",
    "list_names.sort()\n",
    "for i in list_names:\n",
    "    print(i)"
   ]
  },
  {
   "cell_type": "markdown",
   "id": "cffb6c7c",
   "metadata": {},
   "source": [
    "##### Finding the percentage"
   ]
  },
  {
   "cell_type": "code",
   "execution_count": null,
   "id": "d28575eb",
   "metadata": {},
   "outputs": [],
   "source": [
    "if __name__ == '__main__':\n",
    "    n = int(input())\n",
    "    student_marks = {}\n",
    "    for _ in range(n):\n",
    "        name, *line = input().split()\n",
    "        scores = list(map(float, line))\n",
    "        student_marks[name] = scores\n",
    "    query_name = input()\n",
    "marks = student_marks[query_name]\n",
    "sum = 0\n",
    "for i in range(len(marks)):\n",
    "    sum += marks[i]\n",
    "average = sum/3\n",
    "print('%.2f' % average)"
   ]
  },
  {
   "cell_type": "markdown",
   "id": "0c651305",
   "metadata": {},
   "source": [
    "##### Lists"
   ]
  },
  {
   "cell_type": "code",
   "execution_count": null,
   "id": "4ac17541",
   "metadata": {},
   "outputs": [],
   "source": [
    "if __name__ == '__main__':\n",
    "    N = int(input())\n",
    "    l = []\n",
    "    for i in range(N):\n",
    "        new_command =list(input().split())\n",
    "        if 'insert' in new_command:\n",
    "            l.insert(int(new_command[1]),int(new_command[2]))\n",
    "        elif 'print' in new_command:\n",
    "            print(list(map(int,l)))\n",
    "        elif 'remove' in new_command:\n",
    "            l.remove(int(new_command[1]))\n",
    "        elif 'append' in new_command:\n",
    "            l.append(int(new_command[1]))\n",
    "        elif 'sort' in new_command:\n",
    "            l=sorted(l)\n",
    "        elif 'pop' in new_command:\n",
    "            l.pop()\n",
    "        elif 'reverse' in new_command:\n",
    "            l.reverse()"
   ]
  },
  {
   "cell_type": "markdown",
   "id": "2b5fd75d",
   "metadata": {},
   "source": [
    "##### Tuples"
   ]
  },
  {
   "cell_type": "code",
   "execution_count": null,
   "id": "5db5f0c5",
   "metadata": {},
   "outputs": [],
   "source": [
    "if __name__ == '__main__':\n",
    "    n = int(input())\n",
    "    integer_list = map(int, input().split())\n",
    "t = tuple(integer_list)\n",
    "print(hash(t))"
   ]
  },
  {
   "cell_type": "markdown",
   "id": "fe94116b",
   "metadata": {},
   "source": [
    "### Strings"
   ]
  },
  {
   "cell_type": "markdown",
   "id": "fc7528e8",
   "metadata": {},
   "source": [
    "##### sWAP cASE"
   ]
  },
  {
   "cell_type": "code",
   "execution_count": null,
   "id": "7b4d834a",
   "metadata": {},
   "outputs": [],
   "source": [
    "def swap_case(s):\n",
    "    low = [x.lower() for x in s]\n",
    "    up = [x.upper() for x in s]\n",
    "    string = ''\n",
    "    for i in range(len(s)):\n",
    "        if s[i]!=low[i]:\n",
    "            string = string + low[i]\n",
    "        elif s[i]!=up[i]:\n",
    "            string = string + up[i]\n",
    "        elif s[i]==low[i] and s[i]==up[i]:\n",
    "            string = string + up[i]\n",
    "    return string \n",
    "\n",
    "if __name__ == '__main__':\n",
    "    s = input()\n",
    "    result = swap_case(s)\n",
    "    print(result)"
   ]
  },
  {
   "cell_type": "markdown",
   "id": "d4e75b09",
   "metadata": {},
   "source": [
    "##### String Split and Join"
   ]
  },
  {
   "cell_type": "code",
   "execution_count": null,
   "id": "9228cd26",
   "metadata": {},
   "outputs": [],
   "source": [
    "def split_and_join(line):\n",
    "    \n",
    "    line = line.split(\" \")\n",
    "    string = \"-\".join(line)\n",
    "    return string\n",
    "    \n",
    "\n",
    "if __name__ == '__main__':\n",
    "    line = input()\n",
    "    result = split_and_join(line)\n",
    "    print(result)"
   ]
  },
  {
   "cell_type": "markdown",
   "id": "89232931",
   "metadata": {},
   "source": [
    "##### What's your name?"
   ]
  },
  {
   "cell_type": "code",
   "execution_count": null,
   "id": "ac334ede",
   "metadata": {},
   "outputs": [],
   "source": [
    "def print_full_name(first, last):\n",
    "    # Write your code here\n",
    "    string = 'Hello' + \" \" + first + \" \" + last + '! You just delved into python.'\n",
    "    print(string)\n",
    "\n",
    "if __name__ == '__main__':\n",
    "    first_name = input()\n",
    "    last_name = input()\n",
    "    print_full_name(first_name, last_name)"
   ]
  },
  {
   "cell_type": "markdown",
   "id": "52bd05da",
   "metadata": {},
   "source": [
    "##### Mutations"
   ]
  },
  {
   "cell_type": "code",
   "execution_count": null,
   "id": "47302d25",
   "metadata": {},
   "outputs": [],
   "source": [
    "def mutate_string(string, position, character):\n",
    "    string = string[:position] + character + string[position+1:]\n",
    "    \n",
    "    return string\n",
    "\n",
    "if __name__ == '__main__':\n",
    "    s = input()\n",
    "    i, c = input().split()\n",
    "    s_new = mutate_string(s, int(i), c)\n",
    "    print(s_new)"
   ]
  },
  {
   "cell_type": "markdown",
   "id": "833a4f76",
   "metadata": {},
   "source": [
    "##### Find a string "
   ]
  },
  {
   "cell_type": "code",
   "execution_count": null,
   "id": "bb0f8ad4",
   "metadata": {},
   "outputs": [],
   "source": [
    "def count_substring(string, sub_string):\n",
    "    count_1 = 0\n",
    "    for i in range(len(string)-len(sub_string)+1):\n",
    "        count_2 = 0\n",
    "        for j in range(len(sub_string)):\n",
    "            if string[i+j]==sub_string[j]:\n",
    "                count_2 += 1\n",
    "        if count_2==len(sub_string):\n",
    "            count_1 += 1\n",
    "            \n",
    "    return count_1\n",
    "\n",
    "if __name__ == '__main__':\n",
    "    string = input().strip()\n",
    "    sub_string = input().strip()\n",
    "    \n",
    "    count = count_substring(string, sub_string)\n",
    "    print(count)"
   ]
  },
  {
   "cell_type": "markdown",
   "id": "28f8fccf",
   "metadata": {},
   "source": [
    "##### String Validators"
   ]
  },
  {
   "cell_type": "code",
   "execution_count": null,
   "id": "49cd3b4d",
   "metadata": {},
   "outputs": [],
   "source": [
    "if __name__ == '__main__':\n",
    "    s = input()\n",
    "alphanumeric = False\n",
    "alphabetical = False\n",
    "digits = False\n",
    "lowercase = False\n",
    "uppercase = False\n",
    "for i in s:\n",
    "    if i.isalnum():\n",
    "        alphanumeric = True\n",
    "    if i.isalpha():\n",
    "        alphabetical = True\n",
    "    if i.isdigit():\n",
    "        digits = True\n",
    "    if i.islower():\n",
    "        lowercase = True\n",
    "    if i.isupper():\n",
    "        uppercase = True\n",
    "print(alphanumeric)\n",
    "print(alphabetical)\n",
    "print(digits)\n",
    "print(lowercase)\n",
    "print(uppercase)"
   ]
  },
  {
   "cell_type": "markdown",
   "id": "d7452b72",
   "metadata": {},
   "source": [
    "##### Text Alignment"
   ]
  },
  {
   "cell_type": "code",
   "execution_count": null,
   "id": "63db8ddd",
   "metadata": {},
   "outputs": [],
   "source": [
    "n = int(input())\n",
    "f1 = 'H'\n",
    "f2 = 'H'\n",
    "print(f1.center(2*n,' '))\n",
    "for i in range(1,n,1):\n",
    "    f1 = f1 +'HH'\n",
    "    f2 = f2 +'H'\n",
    "    print(f1.center(2*n,' '))\n",
    "\n",
    "for i in range(n+1):\n",
    "    print(f2.center(2*n,' '), end='')\n",
    "    print(''.center(2*n,' '), end='')\n",
    "    print(f2.center(2*n,' '))\n",
    "\n",
    "f3=5*n*'H'\n",
    "for i in range((n+1)//2):\n",
    "    print(f3.center(6*n,' '),end='\\n')\n",
    "for i in range(n+1):\n",
    "    print(f2.center(2*n,' '), end='')\n",
    "    print(''.center(2*n,' '), end='')\n",
    "    print(f2.center(2*n,' '))\n",
    "f4=4*n*' '\n",
    "for i in range(2*n-1,0,-2):\n",
    "    print(f4,end='')\n",
    "    str=i*'H'\n",
    "    print(str.center(2*n,' '))"
   ]
  },
  {
   "cell_type": "markdown",
   "id": "89be46b5",
   "metadata": {},
   "source": [
    "##### Text Wrap"
   ]
  },
  {
   "cell_type": "code",
   "execution_count": null,
   "id": "532ee6ce",
   "metadata": {},
   "outputs": [],
   "source": [
    "#text wrap\n",
    "import textwrap\n",
    "\n",
    "def wrap(string, max_width):\n",
    "    s=''\n",
    "    n=len(string)/max_width\n",
    "    for i in range(int(n)+1):\n",
    "        s = s + string[max_width*i:max_width*(i+1)] + '\\n'\n",
    "    string = s\n",
    "    return string\n",
    "\n",
    "if __name__ == '__main__':\n",
    "    string, max_width = input(), int(input())\n",
    "    result = wrap(string, max_width)\n",
    "    print(result)"
   ]
  },
  {
   "cell_type": "markdown",
   "id": "cc20eeb7",
   "metadata": {},
   "source": [
    "##### Designer Door Mat"
   ]
  },
  {
   "cell_type": "code",
   "execution_count": null,
   "id": "0f3cefa1",
   "metadata": {},
   "outputs": [],
   "source": [
    "n, m= input().split()\n",
    "\n",
    "N=int(n)\n",
    "M=int(m)\n",
    "middle=int(N/2)\n",
    "stringa1 = '.'+'|'+'.'\n",
    "print(stringa1.center(M,'-'))\n",
    "for i in range(middle-1):\n",
    "    stringa1 = '.'+'|'+'.'+stringa1+'.'+'|'+'.'\n",
    "    print(stringa1.center(M,'-'))\n",
    "print('WELCOME'.center(M,'-'))   \n",
    "for i in range(2*middle-1,0,-2):\n",
    "    stringa2='.|.'*i\n",
    "    print(stringa2.center(M,'-'))"
   ]
  },
  {
   "cell_type": "markdown",
   "id": "fc9f11e0",
   "metadata": {},
   "source": [
    "##### String Formatting "
   ]
  },
  {
   "cell_type": "code",
   "execution_count": null,
   "id": "cc01aae8",
   "metadata": {},
   "outputs": [],
   "source": [
    "def print_formatted(number):\n",
    "    # your code goes here\n",
    "    l = len(bin(n)[2:])\n",
    "    for i in range(1,n+1,1):\n",
    "        print(str(i).rjust(l,' '),end=' ')\n",
    "        print(oct(i)[2:].rjust(l,' '),end=' ')\n",
    "        hexadecimal = hex(i)[2:].upper()\n",
    "        print(hexadecimal.rjust(l,' '),end=' ')\n",
    "        print(bin(i)[2:].rjust(l,' '),end='\\n')\n",
    "    return\n",
    "\n",
    "if __name__ == '__main__':\n",
    "    n = int(input())\n",
    "    print_formatted(n)"
   ]
  },
  {
   "cell_type": "markdown",
   "id": "69569f9d",
   "metadata": {},
   "source": [
    "##### Alphabet Rangoli"
   ]
  },
  {
   "cell_type": "code",
   "execution_count": null,
   "id": "60168ddb",
   "metadata": {},
   "outputs": [],
   "source": [
    "def print_rangoli(size):\n",
    "    # your code goes here\n",
    "    middle=int((2*size-1)/2)\n",
    "    alfabeto='abcdefghijklmnopqrstuvwxyz'\n",
    "    stringa = int((4*size-3)/2)*'-'+alfabeto[size-1]+int((4*size-3)/2)*'-'+'\\n'\n",
    "    for i in range(1,middle+1,1):\n",
    "        stringa_agg_1 = ''\n",
    "        stringa_agg_2 = ''\n",
    "        for j in range(i):\n",
    "            stringa_agg_1 = stringa_agg_1 + alfabeto[size-1-j] + '-'\n",
    "            stringa_agg_2 = '-' +alfabeto[size-1-j] + stringa_agg_2 \n",
    "        stringa=stringa+int(2*(n-1-i))*'-'+stringa_agg_1+ alfabeto[size-1-i]+stringa_agg_2+int(2*(n-1-i))*'-'+'\\n'\n",
    "    \n",
    "    for i in range(middle-1,0,-1):\n",
    "        stringa_agg_1 = ''\n",
    "        stringa_agg_2 = ''\n",
    "        for j in range(i):\n",
    "            stringa_agg_1 = stringa_agg_1 + alfabeto[size-1-j] + '-'\n",
    "            stringa_agg_2 = '-' +alfabeto[size-1-j] + stringa_agg_2 \n",
    "        stringa=stringa+int(2*(n-1-i))*'-'+stringa_agg_1+ alfabeto[size-1-i]+stringa_agg_2+int(2*(n-1-i))*'-'+'\\n'\n",
    "    if size>1:\n",
    "        stringa = stringa + int((4*size-3)/2)*'-'+alfabeto[size-1]+int((4*size-3)/2)*'-'+'\\n'\n",
    "    \n",
    "    print(stringa)\n",
    "\n",
    "if __name__ == '__main__':\n",
    "    n = int(input())\n",
    "    print_rangoli(n)"
   ]
  },
  {
   "cell_type": "markdown",
   "id": "73e777dd",
   "metadata": {},
   "source": [
    "##### Capitalize!"
   ]
  },
  {
   "cell_type": "code",
   "execution_count": null,
   "id": "cd058f83",
   "metadata": {},
   "outputs": [],
   "source": [
    "def solve(s):\n",
    "    s = s.split(\" \")\n",
    "    for i in range(len(s)):\n",
    "        s[i]=s[i].capitalize()\n",
    "    string = \" \".join(s)\n",
    "    return string\n",
    "\n",
    "if __name__ == '__main__':\n",
    "    fptr = open(os.environ['OUTPUT_PATH'], 'w')\n",
    "\n",
    "    s = input()\n",
    "\n",
    "    result = solve(s)\n",
    "\n",
    "    fptr.write(result + '\\n')\n",
    "\n",
    "    fptr.close()"
   ]
  },
  {
   "cell_type": "markdown",
   "id": "fbbc35d9",
   "metadata": {},
   "source": [
    "##### The Minio Game"
   ]
  },
  {
   "cell_type": "code",
   "execution_count": null,
   "id": "89bee12e",
   "metadata": {},
   "outputs": [],
   "source": [
    "def minion_game(string):\n",
    "    # your code goes here\n",
    "    vow_ = ['A','E','I','O','U']\n",
    "    cons_ = ['B','C','D','F','G','H','J','K','L','M','N','P','Q','R','S','T','V','W','X','Y','Z']\n",
    "    Kevin = 0\n",
    "    Stuart = 0\n",
    "    for i in range(len(s)):\n",
    "        if s[i] in vow_:\n",
    "            Kevin += len(s)-i\n",
    "        elif s[i] in cons_:\n",
    "            Stuart += len(s)-i\n",
    "    if Kevin>Stuart :\n",
    "        print('Kevin', Kevin)\n",
    "    elif Kevin<Stuart :\n",
    "        print('Stuart', Stuart)\n",
    "    elif Kevin==Stuart :\n",
    "        print('Draw')\n",
    "        \n",
    "if __name__ == '__main__':\n",
    "    s = input()\n",
    "    minion_game(s)"
   ]
  },
  {
   "cell_type": "markdown",
   "id": "188bd438",
   "metadata": {},
   "source": [
    "##### Merge the Tools!"
   ]
  },
  {
   "cell_type": "code",
   "execution_count": null,
   "id": "8e5af469",
   "metadata": {},
   "outputs": [],
   "source": [
    "def merge_the_tools(string, k):\n",
    "    # your code goes here\n",
    "    for i in range(0,len(string),k):\n",
    "        new_string=''\n",
    "        for j in range(i,i+k):\n",
    "            if string[j] in new_string:\n",
    "                continue\n",
    "            else:\n",
    "                new_string=new_string+string[j]\n",
    "        print(new_string)\n",
    "\n",
    "if __name__ == '__main__':\n",
    "    string, k = input(), int(input())\n",
    "    merge_the_tools(string, k)"
   ]
  },
  {
   "cell_type": "markdown",
   "id": "ab9761eb",
   "metadata": {},
   "source": [
    "### Sets"
   ]
  },
  {
   "cell_type": "markdown",
   "id": "7a7be652",
   "metadata": {},
   "source": [
    "##### Introduction to Sets"
   ]
  },
  {
   "cell_type": "code",
   "execution_count": null,
   "id": "d5dc153b",
   "metadata": {},
   "outputs": [],
   "source": [
    "def average(array):\n",
    "    # your code goes here\n",
    "    set_ = set(arr)\n",
    "    som = 0\n",
    "    number = 0\n",
    "    for i in set_:\n",
    "        som += i\n",
    "        number += 1\n",
    "    average = som/number\n",
    "    average = \" %.3f \" % average\n",
    "    return average\n",
    "\n",
    "if __name__ == '__main__':\n",
    "    n = int(input())\n",
    "    arr = list(map(int, input().split()))\n",
    "    result = average(arr)\n",
    "    print(result)"
   ]
  },
  {
   "cell_type": "markdown",
   "id": "2d0ce194",
   "metadata": {},
   "source": [
    "##### No Idea!"
   ]
  },
  {
   "cell_type": "code",
   "execution_count": null,
   "id": "b734d943",
   "metadata": {},
   "outputs": [],
   "source": [
    "n, m = map(int,input().split())\n",
    "array = list(map(int, input().split()))\n",
    "el_A = set(map(int, input().split()))\n",
    "el_B = set(map(int, input().split()))\n",
    "happiness = 0\n",
    "for i in array:\n",
    "    if i in el_A:\n",
    "        happiness += 1\n",
    "    elif i in el_B:\n",
    "        happiness -= 1\n",
    "print(happiness)"
   ]
  },
  {
   "cell_type": "markdown",
   "id": "10f967fd",
   "metadata": {},
   "source": [
    "##### Symmetric Difference"
   ]
  },
  {
   "cell_type": "code",
   "execution_count": null,
   "id": "7d910166",
   "metadata": {},
   "outputs": [],
   "source": [
    "M = int(input())\n",
    "lista1 = list(map(int, input().split()))\n",
    "N = int(input())\n",
    "lista2 = list(map(int, input().split()))\n",
    "set1 = set(lista1)\n",
    "set2 = set(lista2)\n",
    "inters_ = set1.intersection(set2)\n",
    "union_ = set1.union(set2)\n",
    "sym_diff = union_.difference(inters_)\n",
    "list_ = list(sym_diff)\n",
    "list_.sort()\n",
    "for i in list_:\n",
    "    print(i)"
   ]
  },
  {
   "cell_type": "markdown",
   "id": "5ee9d8fa",
   "metadata": {},
   "source": [
    "##### Set .add()"
   ]
  },
  {
   "cell_type": "code",
   "execution_count": null,
   "id": "f6a42d06",
   "metadata": {},
   "outputs": [],
   "source": [
    "N = int(input())\n",
    "country_stamps = set()\n",
    "for i in range(N):\n",
    "    country_stamps.add(input())\n",
    "print(len(country_stamps))"
   ]
  },
  {
   "cell_type": "markdown",
   "id": "1ec33fd4",
   "metadata": {},
   "source": [
    "##### Set .discard(), .remove() & .pop()"
   ]
  },
  {
   "cell_type": "code",
   "execution_count": null,
   "id": "57af2987",
   "metadata": {},
   "outputs": [],
   "source": [
    "n = int(input())\n",
    "s = set(map(int, input().split()))\n",
    "N = int(input())\n",
    "commands = []\n",
    "for i in range(N):\n",
    "    commands.append(input())\n",
    "for i in range(N):\n",
    "    if commands[i]=='pop':\n",
    "        s.pop()\n",
    "    elif 'remove' in commands[i] and int(commands[i][7]) in s:\n",
    "        s.remove(int(commands[i][7]))\n",
    "    elif 'discard' in commands[i] and int(commands[i][8]) in s:\n",
    "        s.discard(int(commands[i][8]))\n",
    "sum = 0\n",
    "for i in s:\n",
    "    sum += i\n",
    "print(sum)"
   ]
  },
  {
   "cell_type": "markdown",
   "id": "b1b3ec64",
   "metadata": {},
   "source": [
    "##### Set .union() Operation"
   ]
  },
  {
   "cell_type": "code",
   "execution_count": null,
   "id": "c83cd723",
   "metadata": {},
   "outputs": [],
   "source": [
    "n = int(input())\n",
    "english = set(map(int, input().split()))\n",
    "b = int(input())\n",
    "french = set(map(int, input().split()))\n",
    "total = english.union(french)\n",
    "count = 0\n",
    "for i in total:\n",
    "    count += 1\n",
    "print(count)"
   ]
  },
  {
   "cell_type": "markdown",
   "id": "8cb75de6",
   "metadata": {},
   "source": [
    "##### Set .intersection() Operation"
   ]
  },
  {
   "cell_type": "code",
   "execution_count": null,
   "id": "efc4be7a",
   "metadata": {},
   "outputs": [],
   "source": [
    "n = int(input())\n",
    "english = set(map(int, input().split()))\n",
    "b = int(input())\n",
    "french = set(map(int, input().split()))\n",
    "total = english.intersection(french)\n",
    "count = 0\n",
    "for i in total:\n",
    "    count += 1\n",
    "print(count)"
   ]
  },
  {
   "cell_type": "markdown",
   "id": "64e9ad68",
   "metadata": {},
   "source": [
    "##### Set .difference() Operation"
   ]
  },
  {
   "cell_type": "code",
   "execution_count": null,
   "id": "629e5286",
   "metadata": {},
   "outputs": [],
   "source": [
    "n = int(input())\n",
    "english = set(map(int, input().split()))\n",
    "b = int(input())\n",
    "french = set(map(int, input().split()))\n",
    "total = english.difference(french)\n",
    "count = 0\n",
    "for i in total:\n",
    "    count += 1\n",
    "print(count)"
   ]
  },
  {
   "cell_type": "markdown",
   "id": "a00de45b",
   "metadata": {},
   "source": [
    "##### Set .symmetric_difference() Operation"
   ]
  },
  {
   "cell_type": "code",
   "execution_count": null,
   "id": "a601bd50",
   "metadata": {},
   "outputs": [],
   "source": [
    "n = int(input())\n",
    "english = set(map(int, input().split()))\n",
    "b = int(input())\n",
    "french = set(map(int, input().split()))\n",
    "total = english.symmetric_difference(french)\n",
    "count = 0\n",
    "for i in total:\n",
    "    count += 1\n",
    "print(count)"
   ]
  },
  {
   "cell_type": "markdown",
   "id": "b941fa80",
   "metadata": {},
   "source": [
    "##### Set Mutations"
   ]
  },
  {
   "cell_type": "code",
   "execution_count": null,
   "id": "9ba523af",
   "metadata": {},
   "outputs": [],
   "source": [
    "n_A = int(input())\n",
    "A = set(map(int, input().split()))\n",
    "N = int(input())\n",
    "for i in range(N):\n",
    "    list_ = list(input().split())\n",
    "    B = set(map(int, input().split()))\n",
    "    if list_[0]=='update':\n",
    "        A.update(B)\n",
    "    elif 'intersection_update'==list_[0]:\n",
    "        A.intersection_update(B)\n",
    "    elif 'difference_update'==list_[0]:\n",
    "        A.difference_update(B)\n",
    "    elif 'symmetric_difference_update'==list_[0]:\n",
    "        A.symmetric_difference_update(B)\n",
    "sum = 0\n",
    "for i in A:\n",
    "    sum += i\n",
    "print(sum)"
   ]
  },
  {
   "cell_type": "markdown",
   "id": "cd5bd461",
   "metadata": {},
   "source": [
    "##### The Captain's Room"
   ]
  },
  {
   "cell_type": "code",
   "execution_count": null,
   "id": "d977b6ce",
   "metadata": {},
   "outputs": [],
   "source": [
    "k = int(input())\n",
    "room_numbers = list(map(int, input().split()))\n",
    "room_numbers.sort()\n",
    "for i in range(0,len(room_numbers)-k,k):\n",
    "    if room_numbers[i]!=room_numbers[i+1]:\n",
    "        break\n",
    "if i==len(room_numbers)-k-1:\n",
    "    print(room_numbers[len(room_numbers)-1])\n",
    "else:\n",
    "    print(room_numbers[i])"
   ]
  },
  {
   "cell_type": "markdown",
   "id": "6c30fbc6",
   "metadata": {},
   "source": [
    "##### Check Subset"
   ]
  },
  {
   "cell_type": "code",
   "execution_count": null,
   "id": "130847fa",
   "metadata": {},
   "outputs": [],
   "source": [
    "T = int(input())\n",
    "for i in range(T):\n",
    "    n_A = int(input())\n",
    "    A = set(map(int, input().split()))\n",
    "    n_B = int(input())\n",
    "    B = set(map(int, input().split()))\n",
    "    inters = A.intersection(B)\n",
    "    diff = B.difference(A)\n",
    "    if len(inters)!=0 and len(diff)==len(B)-len(A):\n",
    "        print(True)\n",
    "    else:\n",
    "        print(False)"
   ]
  },
  {
   "cell_type": "markdown",
   "id": "5e6cdf98",
   "metadata": {},
   "source": [
    "##### Check Strict Subset"
   ]
  },
  {
   "cell_type": "code",
   "execution_count": null,
   "id": "7a5518dc",
   "metadata": {},
   "outputs": [],
   "source": [
    "A = set(map(int,input().split()))\n",
    "n = int(input())\n",
    "len_A = len(A)\n",
    "bool_ = []\n",
    "for i in range(n):\n",
    "    subset = set(map(int,input().split()))\n",
    "    len_s = len(subset)\n",
    "    diff = A.difference(subset)\n",
    "    len_diff = len(diff)\n",
    "    inters = A.intersection(subset)\n",
    "    len_int = len(inters)\n",
    "    if len_diff == (len_A - len_s) and len_diff != 0 and len_int !=0:\n",
    "        bool_.append('True')\n",
    "    else:\n",
    "        bool_.append('False')\n",
    "prova = True\n",
    "for i in range(len(bool_)):\n",
    "    if bool_[i]=='False':\n",
    "        prova = False\n",
    "        break\n",
    "print(prova)"
   ]
  },
  {
   "cell_type": "markdown",
   "id": "62585d82",
   "metadata": {},
   "source": [
    "### Collections"
   ]
  },
  {
   "cell_type": "markdown",
   "id": "7bead9a1",
   "metadata": {},
   "source": [
    "##### collections.Counter()"
   ]
  },
  {
   "cell_type": "code",
   "execution_count": null,
   "id": "f22ad31d",
   "metadata": {},
   "outputs": [],
   "source": [
    "from collections import Counter\n",
    "n_shoes = int(input())\n",
    "size = list(map(int,input().split()))\n",
    "n_customers = int(input())\n",
    "dictionary = Counter(size)\n",
    "money = 0\n",
    "for i in range(n_customers):\n",
    "    size_prize = list(map(int,input().split()))\n",
    "    if size_prize[0] in dictionary and dictionary[size_prize[0]]>0:\n",
    "        money += size_prize[1]\n",
    "        dictionary[size_prize[0]] -= 1\n",
    "print(money)"
   ]
  },
  {
   "cell_type": "markdown",
   "id": "219b96a5",
   "metadata": {},
   "source": [
    "##### DefaultDict tutorial"
   ]
  },
  {
   "cell_type": "code",
   "execution_count": null,
   "id": "a2adf470",
   "metadata": {},
   "outputs": [],
   "source": [
    "from collections import defaultdict\n",
    "n, m = map(int,input().split())\n",
    "A = defaultdict(list)\n",
    "for i in range(n):\n",
    "    A[input()].append(i+1)\n",
    "for i in range(m):\n",
    "    value = input()\n",
    "    if value in A:\n",
    "        for j in range(len(A[value])-1):\n",
    "            print(A[value][j],end=' ')\n",
    "        print(A[value][-1])\n",
    "    else:\n",
    "        print(-1)"
   ]
  },
  {
   "cell_type": "markdown",
   "id": "0a49ab93",
   "metadata": {},
   "source": [
    "##### Collections.namedtuple()"
   ]
  },
  {
   "cell_type": "code",
   "execution_count": null,
   "id": "1d6211ec",
   "metadata": {},
   "outputs": [],
   "source": [
    "from collections import namedtuple\n",
    "N = int(input())\n",
    "list_ = list(input().split())\n",
    "in_marks = list_.index('MARKS')\n",
    "average = 0\n",
    "for i in range(N):\n",
    "    students = list(input().split())\n",
    "    average += int(students[in_marks])\n",
    "average = average/N\n",
    "print('%.2f'%average)"
   ]
  },
  {
   "cell_type": "markdown",
   "id": "d51d27cb",
   "metadata": {},
   "source": [
    "##### Collections.OrderedDict()"
   ]
  },
  {
   "cell_type": "code",
   "execution_count": null,
   "id": "77aa9217",
   "metadata": {},
   "outputs": [],
   "source": [
    "from collections import OrderedDict\n",
    "N = int(input())\n",
    "ordered_dictionary = OrderedDict()\n",
    "list_ = []\n",
    "for i in range(N):\n",
    "    items_price = list(input().split())\n",
    "    len_ = len(items_price)\n",
    "    string = ''\n",
    "    for j in range(len_-2):\n",
    "        string = string + items_price[j] + ' '\n",
    "    string = string + items_price[len_-2]\n",
    "    if string in ordered_dictionary:\n",
    "        ordered_dictionary[string] += int(items_price[len_-1])\n",
    "    else:\n",
    "        ordered_dictionary[string] = int(items_price[len_-1])\n",
    "    \n",
    "for i in ordered_dictionary:\n",
    "    print(i, ordered_dictionary[i])"
   ]
  },
  {
   "cell_type": "markdown",
   "id": "9499b675",
   "metadata": {},
   "source": [
    "##### Word Order"
   ]
  },
  {
   "cell_type": "code",
   "execution_count": null,
   "id": "ae579560",
   "metadata": {},
   "outputs": [],
   "source": [
    "from collections import OrderedDict\n",
    "n = int(input())\n",
    "words_dictionary = OrderedDict()\n",
    "number_words = 0\n",
    "for i in range(n):\n",
    "    word = input()\n",
    "    if word in words_dictionary:\n",
    "        words_dictionary[word] += 1\n",
    "    else:\n",
    "        words_dictionary[word] = 1\n",
    "        number_words += 1\n",
    "print(number_words)\n",
    "for i in words_dictionary:\n",
    "    print(words_dictionary[i], end=' ')"
   ]
  },
  {
   "cell_type": "markdown",
   "id": "35a91cb2",
   "metadata": {},
   "source": [
    "##### Collections.deque()"
   ]
  },
  {
   "cell_type": "code",
   "execution_count": null,
   "id": "4020b66d",
   "metadata": {},
   "outputs": [],
   "source": [
    "from collections import deque\n",
    "N = int(input())\n",
    "d = deque()\n",
    "for i in range(N):\n",
    "    commands = list(input().split())\n",
    "    if commands[0] == 'pop':\n",
    "        d.pop()\n",
    "    elif commands[0] == 'append':\n",
    "        d.append(commands[1])\n",
    "    elif commands[0] == 'popleft':\n",
    "        d.popleft()\n",
    "    elif commands[0] == 'appendleft':\n",
    "        d.appendleft(commands[1])\n",
    "for i in d:\n",
    "    print(i,end= ' ')"
   ]
  },
  {
   "cell_type": "markdown",
   "id": "2b0b7488",
   "metadata": {},
   "source": [
    "### Date and Time"
   ]
  },
  {
   "cell_type": "markdown",
   "id": "462b53ff",
   "metadata": {},
   "source": [
    "##### Calendar Module"
   ]
  },
  {
   "cell_type": "code",
   "execution_count": null,
   "id": "c64e281d",
   "metadata": {},
   "outputs": [],
   "source": [
    "import calendar\n",
    "date = list(map(int,input().split()))\n",
    "week_days = ['MONDAY','TUESDAY','WEDNESDAY','THURSDAY','FRIDAY','SATURDAY','SUNDAY']\n",
    "print(week_days[calendar.weekday(date[2], date[0], date[1])])"
   ]
  },
  {
   "cell_type": "markdown",
   "id": "0624884e",
   "metadata": {},
   "source": [
    "### Exceptions"
   ]
  },
  {
   "cell_type": "code",
   "execution_count": null,
   "id": "9d0d0327",
   "metadata": {},
   "outputs": [],
   "source": [
    "t = int(input())\n",
    "for i in range(t):\n",
    "    a, b = input().split()\n",
    "    try:\n",
    "        print(int(a)//int(b))\n",
    "    except ZeroDivisionError as e:\n",
    "        print(\"Error Code:\",e)\n",
    "    except ValueError as e:\n",
    "        print (\"Error Code:\",e)"
   ]
  },
  {
   "cell_type": "markdown",
   "id": "e55034d2",
   "metadata": {},
   "source": [
    "### Built-ins"
   ]
  },
  {
   "cell_type": "markdown",
   "id": "c2954989",
   "metadata": {},
   "source": [
    "##### Zipped!"
   ]
  },
  {
   "cell_type": "code",
   "execution_count": null,
   "id": "76eb0602",
   "metadata": {},
   "outputs": [],
   "source": [
    "n, x = map(int,input().split())\n",
    "students = []\n",
    "for i in range(x):\n",
    "    students.append(list(map(float,input().split())))\n",
    "students = list(zip(*students))\n",
    "for i in range(n):\n",
    "    sum_ = sum(students[i])\n",
    "    print('%.1f'%float(sum_/x))"
   ]
  },
  {
   "cell_type": "markdown",
   "id": "e873415c",
   "metadata": {},
   "source": [
    "##### Athlete Sort"
   ]
  },
  {
   "cell_type": "code",
   "execution_count": null,
   "id": "3bc1174e",
   "metadata": {},
   "outputs": [],
   "source": [
    "import math\n",
    "import os\n",
    "import random\n",
    "import re\n",
    "import sys\n",
    "\n",
    "\n",
    "\n",
    "if __name__ == '__main__':\n",
    "    nm = input().split()\n",
    "\n",
    "    n = int(nm[0])\n",
    "\n",
    "    m = int(nm[1])\n",
    "\n",
    "    arr = []\n",
    "\n",
    "    for _ in range(n):\n",
    "        arr.append(list(map(int, input().rstrip().split())))\n",
    "\n",
    "    k = int(input())\n",
    "    arr = sorted(arr,key=lambda x:x[k])\n",
    "    for i in arr:\n",
    "        print(\" \".join(map(str,i)))"
   ]
  },
  {
   "cell_type": "markdown",
   "id": "72cfb52b",
   "metadata": {},
   "source": [
    "##### ginortS"
   ]
  },
  {
   "cell_type": "code",
   "execution_count": null,
   "id": "fde50316",
   "metadata": {},
   "outputs": [],
   "source": [
    "string = input()\n",
    "lower = []\n",
    "upper = []\n",
    "odd = []\n",
    "even = []\n",
    "for i in string:\n",
    "    if i.isupper():\n",
    "        upper.append(i)\n",
    "    elif i.islower():\n",
    "        lower.append(i)\n",
    "    elif i.isalpha()==False and int(i)%2 == 0:\n",
    "        even.append(i)\n",
    "    elif i.isalpha()==False and int(i)%2 == 1:\n",
    "        odd.append(i)\n",
    "lower.sort()\n",
    "upper.sort()\n",
    "odd.sort()\n",
    "even.sort()\n",
    "ginorts = lower + upper + odd + even\n",
    "ginorts = ''.join(ginorts)\n",
    "print(ginorts)"
   ]
  },
  {
   "cell_type": "markdown",
   "id": "f8b7226f",
   "metadata": {},
   "source": [
    "### Python Functionals"
   ]
  },
  {
   "cell_type": "markdown",
   "id": "8e56effe",
   "metadata": {},
   "source": [
    "##### Map and Lambda Function"
   ]
  },
  {
   "cell_type": "code",
   "execution_count": null,
   "id": "5d96573b",
   "metadata": {},
   "outputs": [],
   "source": [
    "cube = lambda x: x**3 # complete the lambda function \n",
    "sum_fibonacci = lambda a, b : a+b\n",
    "\n",
    "def fibonacci(n):\n",
    "    # return a list of fibonacci numbers\n",
    "    if n == 0:\n",
    "        return []\n",
    "    elif n == 1:\n",
    "        return [0]\n",
    "    else:\n",
    "        fibonacci_ = [0, 1]\n",
    "        for i in range(2,n):\n",
    "            fibonacci_.append(sum_fibonacci(fibonacci_[i-1],fibonacci_[i-2]))\n",
    "        return fibonacci_\n",
    "    \n",
    "if __name__ == '__main__':\n",
    "    n = int(input())\n",
    "    print(list(map(cube, fibonacci(n))))"
   ]
  },
  {
   "cell_type": "markdown",
   "id": "8d548fa2",
   "metadata": {},
   "source": [
    "### Regex and Parsing challenges"
   ]
  },
  {
   "cell_type": "markdown",
   "id": "cce95b32",
   "metadata": {},
   "source": [
    "##### Detect Floating Point Number"
   ]
  },
  {
   "cell_type": "code",
   "execution_count": null,
   "id": "55452a2e",
   "metadata": {},
   "outputs": [],
   "source": [
    "import re\n",
    "t = int(input())\n",
    "for i in range(t):\n",
    "    n = input()\n",
    "    float_=True\n",
    "    try:\n",
    "        float(n)\n",
    "    except ValueError as e:\n",
    "        float_=False\n",
    "    if re.findall(r\"^[\\+\\-\\.]?[0-9]{0,}\\.[0-9]{1,}$\",n) and float_:\n",
    "        print('True')\n",
    "    else:\n",
    "        print('False')"
   ]
  },
  {
   "cell_type": "markdown",
   "id": "6fca1874",
   "metadata": {},
   "source": [
    "##### Re.split()"
   ]
  },
  {
   "cell_type": "code",
   "execution_count": null,
   "id": "a6da2cb3",
   "metadata": {},
   "outputs": [],
   "source": [
    "regex_pattern = r\"[.,]\"\t# Do not delete 'r'.\n",
    "import re\n",
    "print(\"\\n\".join(re.split(regex_pattern, input())))"
   ]
  },
  {
   "cell_type": "markdown",
   "id": "772afc2e",
   "metadata": {},
   "source": [
    "##### Group(), Groups() & GroupDict()"
   ]
  },
  {
   "cell_type": "code",
   "execution_count": null,
   "id": "c5cd8c4b",
   "metadata": {},
   "outputs": [],
   "source": [
    "import re\n",
    "s = input()\n",
    "index = []\n",
    "for i in range(len(s)):\n",
    "    if s[i].isalnum():\n",
    "        str1 = s[i] + s[i]\n",
    "        str2 = re.search(str1,s)\n",
    "        if str2 :\n",
    "            index.append((s[i],str2.start()+i,str2.end()+i-1))\n",
    "            break\n",
    "    else:\n",
    "        continue\n",
    "if index==[]:\n",
    "    print(-1)\n",
    "else:\n",
    "    print(index[0][0])"
   ]
  },
  {
   "cell_type": "markdown",
   "id": "4afb0bf3",
   "metadata": {},
   "source": [
    "##### Re.findall() & Re.finditer()"
   ]
  },
  {
   "cell_type": "code",
   "execution_count": null,
   "id": "b0ba536b",
   "metadata": {},
   "outputs": [],
   "source": [
    "import re\n",
    "s = input()\n",
    "s = re.findall(r'\\w', s)\n",
    "consonants = 'QWRTYPSDFGHJKLZXCVBNMqwrtypsdfghjklzxcvbnm'\n",
    "vowels = 'AEIOUaeiou'\n",
    "l1 = []\n",
    "i = 1\n",
    "while i<len(s)-1:\n",
    "    st = ''\n",
    "    if s[i].isalpha() and s[i] in vowels:\n",
    "        st += s[i]\n",
    "        for j in range(i+1,len(s)):\n",
    "            if s[j].isalpha() and s[j] in vowels:\n",
    "                st += s[j]\n",
    "            else:\n",
    "                break\n",
    "        if (s[i-1] in consonants) and (s[j] in consonants) and (len(st)>1):\n",
    "            l1.append(''.join(st))\n",
    "    if len(st)>1:\n",
    "        i += len(st)\n",
    "    else:\n",
    "        i += 1\n",
    "if l1 == []:\n",
    "    print(-1)\n",
    "else:\n",
    "    for i in l1:\n",
    "        print(i)"
   ]
  },
  {
   "cell_type": "markdown",
   "id": "6e7fba8c",
   "metadata": {},
   "source": [
    "##### Re.start() & Re.end()"
   ]
  },
  {
   "cell_type": "code",
   "execution_count": null,
   "id": "4e7aa7cb",
   "metadata": {},
   "outputs": [],
   "source": [
    "import re\n",
    "s = input()\n",
    "k = input()\n",
    "len_k = len(k)\n",
    "index = []\n",
    "found = []\n",
    "for i in range(0,len(s)):\n",
    "    s1 = s[i:i+len_k]\n",
    "    string_ = re.search(k,s1)\n",
    "    if string_:\n",
    "        index.append((string_.start()+i,string_.end()+i-1))\n",
    "        found.append(True)\n",
    "    else:\n",
    "        found.append(False)\n",
    "if True in found:\n",
    "    for i in index:\n",
    "        print(i) \n",
    "else:\n",
    "    print((-1,-1))"
   ]
  },
  {
   "cell_type": "markdown",
   "id": "82fa4a67",
   "metadata": {},
   "source": [
    "##### Regex Substitution"
   ]
  },
  {
   "cell_type": "code",
   "execution_count": null,
   "id": "9f0ae609",
   "metadata": {},
   "outputs": [],
   "source": [
    "import re \n",
    "n= int(input())\n",
    "s= ''\n",
    "for i in range(n):\n",
    "    new = re.sub(r\"\\s&&\\s\", \" and \", input()) \n",
    "    new = re.sub(r\"\\s&&\\s\", \" and \", new)\n",
    "    new = re.sub(r\"\\s\\|\\|\\s\",\" or \",new) \n",
    "    s = s +re.sub(r\"\\s\\|\\|\\s\",\" or \",new) + '\\n'\n",
    "print(s)"
   ]
  },
  {
   "cell_type": "markdown",
   "id": "0d22431c",
   "metadata": {},
   "source": [
    "##### Validating Roman Numerals"
   ]
  },
  {
   "cell_type": "code",
   "execution_count": null,
   "id": "36dfb0a3",
   "metadata": {},
   "outputs": [],
   "source": [
    "regex_pattern = r\"^M{0,3}(CM|CD|DC{0,3}|D|C{0,3}){0,1}(XC|XL|LX{0,3}|L|X{0,3}){0,1}(IX|IV|VI{0,3}|V|I{0,3}){0,1}$\"\t# Do not delete 'r'.\n",
    "import re\n",
    "print(str(bool(re.match(regex_pattern, input()))))"
   ]
  },
  {
   "cell_type": "markdown",
   "id": "be95be2e",
   "metadata": {},
   "source": [
    "##### Validating Phone Number"
   ]
  },
  {
   "cell_type": "code",
   "execution_count": null,
   "id": "910a76fd",
   "metadata": {},
   "outputs": [],
   "source": [
    "import re\n",
    "n = int(input())\n",
    "regex_pattern = r\"^[7-9][0-9]{9}$\"\n",
    "numbers = []\n",
    "for i in range(n):\n",
    "    s = input()\n",
    "    if len(s)==10 and re.match(regex_pattern,s):\n",
    "        numbers.append('YES')\n",
    "    else:\n",
    "        numbers.append('NO')\n",
    "for i in numbers:\n",
    "    print(i)"
   ]
  },
  {
   "cell_type": "markdown",
   "id": "3f7b8865",
   "metadata": {},
   "source": [
    "##### Validating and Parsing Email Addresses"
   ]
  },
  {
   "cell_type": "code",
   "execution_count": null,
   "id": "7d86b801",
   "metadata": {},
   "outputs": [],
   "source": [
    "import re\n",
    "n = int(input())\n",
    "regex_pattern = r\"^\\<[a-zA-Z][\\.\\-\\_\\w]{0,}\\@[a-zA-Z]{0,}\\.[a-zA-Z]{1,3}\\>$\"\n",
    "for i in range(n):\n",
    "    name, address = input().split()\n",
    "    if re.match(regex_pattern,address):\n",
    "        print(name, address)"
   ]
  },
  {
   "cell_type": "markdown",
   "id": "9e5f910c",
   "metadata": {},
   "source": [
    "##### Hex Color Code"
   ]
  },
  {
   "cell_type": "code",
   "execution_count": null,
   "id": "ddc61a50",
   "metadata": {},
   "outputs": [],
   "source": [
    "import re\n",
    "n = int(input())\n",
    "regex_pattern = r\".#([a-fA-F0-9]{6}|[a-fA-F0-9]{3}).\"\n",
    "for i in range(n):\n",
    "    s = map(lambda x: x.group(1),re.finditer(regex_pattern,input()))\n",
    "    if s != []:\n",
    "        for i in s:\n",
    "            print('#'+i)"
   ]
  },
  {
   "cell_type": "markdown",
   "id": "a9d1cd5d",
   "metadata": {},
   "source": [
    "##### Validating UID"
   ]
  },
  {
   "cell_type": "code",
   "execution_count": null,
   "id": "20039f2f",
   "metadata": {},
   "outputs": [],
   "source": [
    "import re\n",
    "t = int(input())\n",
    "for i in range(t):\n",
    "    rep = True\n",
    "    s = input()\n",
    "    if len(s)==10 and re.finditer(r\"([A-Z]{2,}[0-9]{3,}[a-z]){10}\",s):\n",
    "        for j in range(len(s)):\n",
    "            if s.count(str(s[j]))>1:\n",
    "                rep = False\n",
    "                break\n",
    "        if rep:\n",
    "            print('Valid')\n",
    "        else:\n",
    "            print('Invalid')\n",
    "                \n",
    "    else:\n",
    "        print('Invalid')"
   ]
  },
  {
   "cell_type": "markdown",
   "id": "78a982c5",
   "metadata": {},
   "source": [
    "### XML"
   ]
  },
  {
   "cell_type": "markdown",
   "id": "d76408d7",
   "metadata": {},
   "source": [
    "##### XML 1 - Find the Score"
   ]
  },
  {
   "cell_type": "code",
   "execution_count": null,
   "id": "ceb602de",
   "metadata": {},
   "outputs": [],
   "source": [
    "import sys\n",
    "import xml.etree.ElementTree as etree\n",
    "def get_attr_number(node):\n",
    "    # your code goes here\n",
    "    count = len(node.attrib)\n",
    "    for i in node:\n",
    "        count += get_attr_number(i)\n",
    "    return count\n",
    "if __name__ == '__main__':\n",
    "    sys.stdin.readline()\n",
    "    xml = sys.stdin.read()\n",
    "    tree = etree.ElementTree(etree.fromstring(xml))\n",
    "    root = tree.getroot()\n",
    "    print(get_attr_number(root))"
   ]
  },
  {
   "cell_type": "markdown",
   "id": "bcb5f669",
   "metadata": {},
   "source": [
    "##### XML 2 - Find the Maximum Depth"
   ]
  },
  {
   "cell_type": "code",
   "execution_count": null,
   "id": "095316f3",
   "metadata": {},
   "outputs": [],
   "source": [
    "import xml.etree.ElementTree as etree\n",
    "maxdepth = 0\n",
    "def depth(elem, level):\n",
    "    global maxdepth\n",
    "    for i in elem:\n",
    "        new_level=level+1\n",
    "        depth(i,new_level)\n",
    "    if level+1>maxdepth:\n",
    "        maxdepth=level+1        \n",
    "    # your code goes here\n",
    "    return maxdepth\n",
    "if __name__ == '__main__':\n",
    "    n = int(input())\n",
    "    xml = \"\"\n",
    "    for i in range(n):\n",
    "        xml =  xml + input() + \"\\n\"\n",
    "    tree = etree.ElementTree(etree.fromstring(xml))\n",
    "    depth(tree.getroot(), -1)\n",
    "    print(maxdepth)"
   ]
  },
  {
   "cell_type": "markdown",
   "id": "da6b75e0",
   "metadata": {},
   "source": [
    "### Closures and Decorations"
   ]
  },
  {
   "cell_type": "markdown",
   "id": "60a9b89c",
   "metadata": {},
   "source": [
    "##### Standardize Mobile Number Using Decorators"
   ]
  },
  {
   "cell_type": "code",
   "execution_count": null,
   "id": "b4cf076c",
   "metadata": {},
   "outputs": [],
   "source": [
    "def wrapper(f):\n",
    "    def fun(l):\n",
    "        # complete the function\n",
    "        new_l=[]\n",
    "        for i in range(len(l)):\n",
    "            str_ = '+91'+' '+l[i][len(l[i])-10:len(l[i])-5:]+' '+ l[i][len(l[i])-5:]\n",
    "            new_l.append(str_)\n",
    "            \n",
    "        f(new_l)\n",
    "    return fun\n",
    "@wrapper\n",
    "def sort_phone(l):\n",
    "    print(*sorted(l), sep='\\n')\n",
    "\n",
    "if __name__ == '__main__':\n",
    "    l = [input() for _ in range(int(input()))]\n",
    "    sort_phone(l)"
   ]
  },
  {
   "cell_type": "markdown",
   "id": "0ed7f31e",
   "metadata": {},
   "source": [
    "##### Decorators 2 - Name Directory"
   ]
  },
  {
   "cell_type": "code",
   "execution_count": null,
   "id": "2a15dfcd",
   "metadata": {},
   "outputs": [],
   "source": [
    "import operator\n",
    "def person_lister(f):\n",
    "    def inner(people):\n",
    "        # complete the function\n",
    "        # complete the function\n",
    "        people = sorted(people,key=lambda i:int(i[2]))\n",
    "        return[f(i) for i in people]\n",
    "    \n",
    "        \n",
    "    return inner\n",
    "@person_lister\n",
    "def name_format(person):\n",
    "    return (\"Mr. \" if person[3] == \"M\" else \"Ms. \") + person[0] + \" \" + person[1]\n",
    "\n",
    "if __name__ == '__main__':\n",
    "    people = [input().split() for i in range(int(input()))]\n",
    "    print(*name_format(people), sep='\\n')"
   ]
  },
  {
   "cell_type": "markdown",
   "id": "baed5674",
   "metadata": {},
   "source": [
    "### Numpy"
   ]
  },
  {
   "cell_type": "markdown",
   "id": "c6c8d494",
   "metadata": {},
   "source": [
    "##### Arrays"
   ]
  },
  {
   "cell_type": "code",
   "execution_count": null,
   "id": "ef2daa9d",
   "metadata": {},
   "outputs": [],
   "source": [
    "import numpy\n",
    "\n",
    "def arrays(arr):\n",
    "    # complete this function\n",
    "    # use numpy.array\n",
    "    arr = numpy.array(arr,float)\n",
    "    return arr[::-1]\n",
    "arr = input().strip().split(' ')\n",
    "result = arrays(arr)\n",
    "print(result)"
   ]
  },
  {
   "cell_type": "markdown",
   "id": "5b381bfc",
   "metadata": {},
   "source": [
    "##### Shape and Reshape"
   ]
  },
  {
   "cell_type": "code",
   "execution_count": null,
   "id": "404599dd",
   "metadata": {},
   "outputs": [],
   "source": [
    "import numpy\n",
    "\n",
    "arr = input().strip().split(' ')\n",
    "arr = numpy.array(arr,int)\n",
    "arr.shape = (3,3)\n",
    "print(arr)"
   ]
  },
  {
   "cell_type": "markdown",
   "id": "7c11aea1",
   "metadata": {},
   "source": [
    "##### Transpose and Flatten"
   ]
  },
  {
   "cell_type": "code",
   "execution_count": null,
   "id": "f1461f6a",
   "metadata": {},
   "outputs": [],
   "source": [
    "import numpy\n",
    "\n",
    "n, m = map(int,input().split())\n",
    "arr = numpy.array([input().strip().split(' ') for i in range(n)],int)\n",
    "print(numpy.transpose(arr))\n",
    "print(arr.flatten())"
   ]
  },
  {
   "cell_type": "markdown",
   "id": "fe11926e",
   "metadata": {},
   "source": [
    "##### Concatenate "
   ]
  },
  {
   "cell_type": "code",
   "execution_count": null,
   "id": "e6772c52",
   "metadata": {},
   "outputs": [],
   "source": [
    "import numpy\n",
    "n,m,p = map(int,input().split())\n",
    "arr1 = numpy.array([],int)\n",
    "arr2 = numpy.array([],int)\n",
    "for i in range(n):\n",
    "    app = numpy.array(input().strip().split(' '),int)\n",
    "    arr1 = numpy.concatenate((arr1, app), axis = 0) \n",
    "arr1.shape = (n,p)\n",
    "for i in range(m):\n",
    "    app = numpy.array(input().strip().split(' '),int)\n",
    "    arr2 = numpy.concatenate((arr2, app), axis = 0)\n",
    "arr2.shape = (m,p)    \n",
    "arr3 = numpy.concatenate((arr1,arr2), axis=0)\n",
    "print(arr3)"
   ]
  },
  {
   "cell_type": "markdown",
   "id": "7950ecec",
   "metadata": {},
   "source": [
    "##### Zeros and Ones"
   ]
  },
  {
   "cell_type": "code",
   "execution_count": null,
   "id": "75ffc9d9",
   "metadata": {},
   "outputs": [],
   "source": [
    "import numpy\n",
    "\n",
    "n = tuple(map(int,input().split()))\n",
    "print(numpy.zeros(n, dtype = numpy.int))\n",
    "print(numpy.ones(n, dtype = numpy.int))"
   ]
  },
  {
   "cell_type": "markdown",
   "id": "90f1648a",
   "metadata": {},
   "source": [
    "##### Eye and Identity"
   ]
  },
  {
   "cell_type": "code",
   "execution_count": null,
   "id": "f0b8fb54",
   "metadata": {},
   "outputs": [],
   "source": [
    "import numpy\n",
    "\n",
    "numpy.set_printoptions(legacy='1.13')\n",
    "n, m = map(int,input().split())\n",
    "print(numpy.eye(n, m))"
   ]
  },
  {
   "cell_type": "markdown",
   "id": "37f7fc58",
   "metadata": {},
   "source": [
    "##### Array Mathematics"
   ]
  },
  {
   "cell_type": "code",
   "execution_count": null,
   "id": "fa5ec080",
   "metadata": {},
   "outputs": [],
   "source": [
    "import numpy\n",
    "\n",
    "n, m =map(int,input().split())\n",
    "A = numpy.array([],int)\n",
    "B = numpy.array([],int)\n",
    "for i in range(n):\n",
    "    app = numpy.array(input().strip().split(' '),int)\n",
    "    A = numpy.concatenate((A, app), axis = 0) \n",
    "A.shape = (n,m)\n",
    "for i in range(n):\n",
    "    app = numpy.array(input().strip().split(' '),int)\n",
    "    B = numpy.concatenate((B, app), axis = 0)\n",
    "B.shape = (n,m)    \n",
    "print(A+B)\n",
    "print(A - B)\n",
    "print(A * B)\n",
    "print(A // B) \n",
    "print(A % B)\n",
    "print(A**B)"
   ]
  },
  {
   "cell_type": "markdown",
   "id": "1010b219",
   "metadata": {},
   "source": [
    "##### Floor, Ceil and rint"
   ]
  },
  {
   "cell_type": "code",
   "execution_count": null,
   "id": "ffff34fc",
   "metadata": {},
   "outputs": [],
   "source": [
    "import numpy\n",
    "\n",
    "numpy.set_printoptions(legacy='1.13')\n",
    "arr = numpy.array(input().strip().split(' '),float)\n",
    "print(numpy.floor(arr))\n",
    "print(numpy.ceil(arr))\n",
    "print(numpy.rint(arr))"
   ]
  },
  {
   "cell_type": "markdown",
   "id": "0fe6002f",
   "metadata": {},
   "source": [
    "##### Sum and Prod"
   ]
  },
  {
   "cell_type": "code",
   "execution_count": null,
   "id": "3ca69bd9",
   "metadata": {},
   "outputs": [],
   "source": [
    "import numpy\n",
    "\n",
    "n, m = map(int,input().split())\n",
    "arr = numpy.array([],int)\n",
    "for i in range(n):\n",
    "    app = numpy.array(input().strip().split(' '),int)\n",
    "    arr = numpy.concatenate((arr, app), axis = 0)\n",
    "arr.shape = (n,m)\n",
    "new_arr = numpy.sum(arr, axis = 0)\n",
    "print(numpy.prod(new_arr)) "
   ]
  },
  {
   "cell_type": "markdown",
   "id": "0343c389",
   "metadata": {},
   "source": [
    "##### Min and Max"
   ]
  },
  {
   "cell_type": "code",
   "execution_count": null,
   "id": "c2377edb",
   "metadata": {},
   "outputs": [],
   "source": [
    "import numpy\n",
    "\n",
    "n, m = map(int,input().split())\n",
    "arr = numpy.array([],int)\n",
    "for i in range(n):\n",
    "    app = numpy.array(input().strip().split(' '),int)\n",
    "    arr = numpy.concatenate((arr, app), axis = 0)\n",
    "arr.shape = (n,m)\n",
    "new_arr = numpy.min(arr, axis = 1)\n",
    "print(numpy.max(new_arr)) "
   ]
  },
  {
   "cell_type": "markdown",
   "id": "3e5c908b",
   "metadata": {},
   "source": [
    "##### Mean, Var and Std"
   ]
  },
  {
   "cell_type": "code",
   "execution_count": null,
   "id": "f73ac5dc",
   "metadata": {},
   "outputs": [],
   "source": [
    "import numpy\n",
    "\n",
    "\n",
    "\n",
    "n, m = map(int,input().split())\n",
    "arr = numpy.array([],int)\n",
    "for i in range(n):\n",
    "    app = numpy.array(input().strip().split(' '),int)\n",
    "    arr = numpy.concatenate((arr, app), axis = 0)\n",
    "arr.shape = (n,m)\n",
    "print(numpy.mean(arr,axis=1)) \n",
    "print(numpy.var(arr,axis=0))\n",
    "print(round(numpy.std(arr,axis=None),11))"
   ]
  },
  {
   "cell_type": "markdown",
   "id": "fbc47e9f",
   "metadata": {},
   "source": [
    "##### Dot and Cross"
   ]
  },
  {
   "cell_type": "code",
   "execution_count": null,
   "id": "2ba88a96",
   "metadata": {},
   "outputs": [],
   "source": [
    "import numpy\n",
    "\n",
    "n = int(input())\n",
    "A = numpy.array([input().strip().split(' ') for i in range(n) ],int)\n",
    "B = numpy.array([input().strip().split(' ') for i in range(n) ],int)\n",
    "print(numpy.dot(A, B))"
   ]
  },
  {
   "cell_type": "markdown",
   "id": "a5de2920",
   "metadata": {},
   "source": [
    "##### Inner and Outer"
   ]
  },
  {
   "cell_type": "code",
   "execution_count": null,
   "id": "02c0c03a",
   "metadata": {},
   "outputs": [],
   "source": [
    "import numpy\n",
    "\n",
    "\n",
    "\n",
    "A = numpy.array(input().strip().split(' '),int)\n",
    "B = numpy.array(input().strip().split(' '),int)\n",
    "print(numpy.inner(A, B))\n",
    "print(numpy.outer(A, B))"
   ]
  },
  {
   "cell_type": "markdown",
   "id": "f3cefd07",
   "metadata": {},
   "source": [
    "##### Polynomials"
   ]
  },
  {
   "cell_type": "code",
   "execution_count": null,
   "id": "4328d9db",
   "metadata": {},
   "outputs": [],
   "source": [
    "import numpy\n",
    "\n",
    "print(numpy.polyval(list(map(float,input().split())), float(input())))\n"
   ]
  },
  {
   "cell_type": "markdown",
   "id": "79b251c2",
   "metadata": {},
   "source": [
    "##### Linear Algebra"
   ]
  },
  {
   "cell_type": "code",
   "execution_count": null,
   "id": "88c3d720",
   "metadata": {},
   "outputs": [],
   "source": [
    "import numpy\n",
    "n = int(input())\n",
    "A = numpy.array([input().strip().split(' ') for i in range(n)],float)\n",
    "print(round(numpy.linalg.det(A),2))"
   ]
  }
 ],
 "metadata": {
  "kernelspec": {
   "display_name": "Python 3 (ipykernel)",
   "language": "python",
   "name": "python3"
  },
  "language_info": {
   "codemirror_mode": {
    "name": "ipython",
    "version": 3
   },
   "file_extension": ".py",
   "mimetype": "text/x-python",
   "name": "python",
   "nbconvert_exporter": "python",
   "pygments_lexer": "ipython3",
   "version": "3.9.12"
  }
 },
 "nbformat": 4,
 "nbformat_minor": 5
}
